{
 "cells": [
  {
   "cell_type": "code",
   "id": "initial_id",
   "metadata": {
    "collapsed": true,
    "ExecuteTime": {
     "end_time": "2025-04-03T13:51:25.919657Z",
     "start_time": "2025-04-03T13:51:25.397964Z"
    }
   },
   "source": [
    "import matplotlib\n",
    "import pandas as pd\n",
    "import numpy as np\n",
    "import matplotlib.pyplot as plt\n",
    "from attr.filters import exclude\n",
    "from sklearn.model_selection import train_test_split\n",
    "import seaborn as sns\n",
    "from sklearn.preprocessing import StandardScaler\n",
    "from sklearn.metrics import mean_squared_error\n",
    "from sklearn.linear_model import LinearRegression\n",
    "from sklearn.tree import DecisionTreeRegressor\n",
    "from sklearn.ensemble import RandomForestRegressor\n",
    "import xgboost as xgb"
   ],
   "outputs": [],
   "execution_count": 53
  },
  {
   "metadata": {
    "ExecuteTime": {
     "end_time": "2025-04-03T08:15:26.943996Z",
     "start_time": "2025-04-03T08:15:26.864310Z"
    }
   },
   "cell_type": "code",
   "source": [
    "test=pd.read_csv(r\"C:\\Users\\medya\\Desktop\\Test.csv\")\n",
    "train=pd.read_csv(r\"C:\\Users\\medya\\Desktop\\Train.csv\")\n",
    "sample=pd.read_csv(r\"C:\\Users\\medya\\Desktop\\sample submission.csv\")"
   ],
   "id": "76a471f7b9d6a19a",
   "outputs": [],
   "execution_count": 2
  },
  {
   "metadata": {
    "ExecuteTime": {
     "end_time": "2025-04-03T08:15:29.951873Z",
     "start_time": "2025-04-03T08:15:29.909568Z"
    }
   },
   "cell_type": "code",
   "source": [
    "df=pd.concat([train,test])\n",
    "df.head()"
   ],
   "id": "794e837e23a58c67",
   "outputs": [
    {
     "data": {
      "text/plain": [
       "   ID  Gender  Height (cm)  Weight (kg) Blood Pressure (s/d)  \\\n",
       "0   1    Male   171.148359    86.185197              151/109   \n",
       "1   2    Male   172.946206    79.641937              134/112   \n",
       "2   3  Female   155.945488    49.167058              160/101   \n",
       "3   4  Female   169.078298    56.017921               133/94   \n",
       "4   5  Female   163.758355    73.966304              170/106   \n",
       "\n",
       "   Cholesterol Level (mg/dL)        BMI  Blood Glucose Level (mg/dL)  \\\n",
       "0                 259.465814  29.423017                   157.652848   \n",
       "1                 263.630292  26.626847                   118.507805   \n",
       "2                 207.846206  20.217553                   143.587550   \n",
       "3                 253.283779  19.595270                   137.448581   \n",
       "4                 236.119899  27.582078                   145.328695   \n",
       "\n",
       "   Bone Density (g/cm²)  Vision Sharpness  ...  Family History  \\\n",
       "0              0.132868          0.200000  ...             NaN   \n",
       "1              0.629534          0.267312  ...   Heart Disease   \n",
       "2              0.473487          0.248667  ...    Hypertension   \n",
       "3              1.184315          0.513818  ...    Hypertension   \n",
       "4              0.434562          0.306864  ...             NaN   \n",
       "\n",
       "  Cognitive Function Mental Health Status Sleep Patterns Stress Levels  \\\n",
       "0          44.059172                 Good       Insomnia      2.797064   \n",
       "1          45.312298                 Good         Normal      9.339930   \n",
       "2          56.246991                 Poor       Insomnia      9.234637   \n",
       "3          55.196092                 Poor       Insomnia      4.693446   \n",
       "4          53.023379                 Good         Normal      4.038537   \n",
       "\n",
       "  Pollution Exposure Sun Exposure Education Level  Income Level Age (years)  \n",
       "0           5.142344     7.108975             NaN        Medium        89.0  \n",
       "1           7.272720     3.918489   Undergraduate        Medium        77.0  \n",
       "2           8.500386     5.393408             NaN        Medium        70.0  \n",
       "3           7.555511     2.745578             NaN           Low        52.0  \n",
       "4           9.429097     3.878435   Undergraduate          High        79.0  \n",
       "\n",
       "[5 rows x 27 columns]"
      ],
      "text/html": [
       "<div>\n",
       "<style scoped>\n",
       "    .dataframe tbody tr th:only-of-type {\n",
       "        vertical-align: middle;\n",
       "    }\n",
       "\n",
       "    .dataframe tbody tr th {\n",
       "        vertical-align: top;\n",
       "    }\n",
       "\n",
       "    .dataframe thead th {\n",
       "        text-align: right;\n",
       "    }\n",
       "</style>\n",
       "<table border=\"1\" class=\"dataframe\">\n",
       "  <thead>\n",
       "    <tr style=\"text-align: right;\">\n",
       "      <th></th>\n",
       "      <th>ID</th>\n",
       "      <th>Gender</th>\n",
       "      <th>Height (cm)</th>\n",
       "      <th>Weight (kg)</th>\n",
       "      <th>Blood Pressure (s/d)</th>\n",
       "      <th>Cholesterol Level (mg/dL)</th>\n",
       "      <th>BMI</th>\n",
       "      <th>Blood Glucose Level (mg/dL)</th>\n",
       "      <th>Bone Density (g/cm²)</th>\n",
       "      <th>Vision Sharpness</th>\n",
       "      <th>...</th>\n",
       "      <th>Family History</th>\n",
       "      <th>Cognitive Function</th>\n",
       "      <th>Mental Health Status</th>\n",
       "      <th>Sleep Patterns</th>\n",
       "      <th>Stress Levels</th>\n",
       "      <th>Pollution Exposure</th>\n",
       "      <th>Sun Exposure</th>\n",
       "      <th>Education Level</th>\n",
       "      <th>Income Level</th>\n",
       "      <th>Age (years)</th>\n",
       "    </tr>\n",
       "  </thead>\n",
       "  <tbody>\n",
       "    <tr>\n",
       "      <th>0</th>\n",
       "      <td>1</td>\n",
       "      <td>Male</td>\n",
       "      <td>171.148359</td>\n",
       "      <td>86.185197</td>\n",
       "      <td>151/109</td>\n",
       "      <td>259.465814</td>\n",
       "      <td>29.423017</td>\n",
       "      <td>157.652848</td>\n",
       "      <td>0.132868</td>\n",
       "      <td>0.200000</td>\n",
       "      <td>...</td>\n",
       "      <td>NaN</td>\n",
       "      <td>44.059172</td>\n",
       "      <td>Good</td>\n",
       "      <td>Insomnia</td>\n",
       "      <td>2.797064</td>\n",
       "      <td>5.142344</td>\n",
       "      <td>7.108975</td>\n",
       "      <td>NaN</td>\n",
       "      <td>Medium</td>\n",
       "      <td>89.0</td>\n",
       "    </tr>\n",
       "    <tr>\n",
       "      <th>1</th>\n",
       "      <td>2</td>\n",
       "      <td>Male</td>\n",
       "      <td>172.946206</td>\n",
       "      <td>79.641937</td>\n",
       "      <td>134/112</td>\n",
       "      <td>263.630292</td>\n",
       "      <td>26.626847</td>\n",
       "      <td>118.507805</td>\n",
       "      <td>0.629534</td>\n",
       "      <td>0.267312</td>\n",
       "      <td>...</td>\n",
       "      <td>Heart Disease</td>\n",
       "      <td>45.312298</td>\n",
       "      <td>Good</td>\n",
       "      <td>Normal</td>\n",
       "      <td>9.339930</td>\n",
       "      <td>7.272720</td>\n",
       "      <td>3.918489</td>\n",
       "      <td>Undergraduate</td>\n",
       "      <td>Medium</td>\n",
       "      <td>77.0</td>\n",
       "    </tr>\n",
       "    <tr>\n",
       "      <th>2</th>\n",
       "      <td>3</td>\n",
       "      <td>Female</td>\n",
       "      <td>155.945488</td>\n",
       "      <td>49.167058</td>\n",
       "      <td>160/101</td>\n",
       "      <td>207.846206</td>\n",
       "      <td>20.217553</td>\n",
       "      <td>143.587550</td>\n",
       "      <td>0.473487</td>\n",
       "      <td>0.248667</td>\n",
       "      <td>...</td>\n",
       "      <td>Hypertension</td>\n",
       "      <td>56.246991</td>\n",
       "      <td>Poor</td>\n",
       "      <td>Insomnia</td>\n",
       "      <td>9.234637</td>\n",
       "      <td>8.500386</td>\n",
       "      <td>5.393408</td>\n",
       "      <td>NaN</td>\n",
       "      <td>Medium</td>\n",
       "      <td>70.0</td>\n",
       "    </tr>\n",
       "    <tr>\n",
       "      <th>3</th>\n",
       "      <td>4</td>\n",
       "      <td>Female</td>\n",
       "      <td>169.078298</td>\n",
       "      <td>56.017921</td>\n",
       "      <td>133/94</td>\n",
       "      <td>253.283779</td>\n",
       "      <td>19.595270</td>\n",
       "      <td>137.448581</td>\n",
       "      <td>1.184315</td>\n",
       "      <td>0.513818</td>\n",
       "      <td>...</td>\n",
       "      <td>Hypertension</td>\n",
       "      <td>55.196092</td>\n",
       "      <td>Poor</td>\n",
       "      <td>Insomnia</td>\n",
       "      <td>4.693446</td>\n",
       "      <td>7.555511</td>\n",
       "      <td>2.745578</td>\n",
       "      <td>NaN</td>\n",
       "      <td>Low</td>\n",
       "      <td>52.0</td>\n",
       "    </tr>\n",
       "    <tr>\n",
       "      <th>4</th>\n",
       "      <td>5</td>\n",
       "      <td>Female</td>\n",
       "      <td>163.758355</td>\n",
       "      <td>73.966304</td>\n",
       "      <td>170/106</td>\n",
       "      <td>236.119899</td>\n",
       "      <td>27.582078</td>\n",
       "      <td>145.328695</td>\n",
       "      <td>0.434562</td>\n",
       "      <td>0.306864</td>\n",
       "      <td>...</td>\n",
       "      <td>NaN</td>\n",
       "      <td>53.023379</td>\n",
       "      <td>Good</td>\n",
       "      <td>Normal</td>\n",
       "      <td>4.038537</td>\n",
       "      <td>9.429097</td>\n",
       "      <td>3.878435</td>\n",
       "      <td>Undergraduate</td>\n",
       "      <td>High</td>\n",
       "      <td>79.0</td>\n",
       "    </tr>\n",
       "  </tbody>\n",
       "</table>\n",
       "<p>5 rows × 27 columns</p>\n",
       "</div>"
      ]
     },
     "execution_count": 3,
     "metadata": {},
     "output_type": "execute_result"
    }
   ],
   "execution_count": 3
  },
  {
   "metadata": {
    "ExecuteTime": {
     "end_time": "2025-04-03T08:15:31.836127Z",
     "start_time": "2025-04-03T08:15:31.828373Z"
    }
   },
   "cell_type": "code",
   "source": [
    "df.shape\n",
    "#jj"
   ],
   "id": "6c253ec189f75b8f",
   "outputs": [
    {
     "data": {
      "text/plain": [
       "(6000, 27)"
      ]
     },
     "execution_count": 4,
     "metadata": {},
     "output_type": "execute_result"
    }
   ],
   "execution_count": 4
  },
  {
   "metadata": {
    "ExecuteTime": {
     "end_time": "2025-04-03T08:15:33.092862Z",
     "start_time": "2025-04-03T08:15:33.058280Z"
    }
   },
   "cell_type": "code",
   "source": "df.info()",
   "id": "f656ef691f524d6a",
   "outputs": [
    {
     "name": "stdout",
     "output_type": "stream",
     "text": [
      "<class 'pandas.core.frame.DataFrame'>\n",
      "Index: 6000 entries, 0 to 2999\n",
      "Data columns (total 27 columns):\n",
      " #   Column                       Non-Null Count  Dtype  \n",
      "---  ------                       --------------  -----  \n",
      " 0   ID                           6000 non-null   int64  \n",
      " 1   Gender                       6000 non-null   object \n",
      " 2   Height (cm)                  6000 non-null   float64\n",
      " 3   Weight (kg)                  6000 non-null   float64\n",
      " 4   Blood Pressure (s/d)         6000 non-null   object \n",
      " 5   Cholesterol Level (mg/dL)    6000 non-null   float64\n",
      " 6   BMI                          6000 non-null   float64\n",
      " 7   Blood Glucose Level (mg/dL)  6000 non-null   float64\n",
      " 8   Bone Density (g/cm²)         6000 non-null   float64\n",
      " 9   Vision Sharpness             6000 non-null   float64\n",
      " 10  Hearing Ability (dB)         6000 non-null   float64\n",
      " 11  Physical Activity Level      6000 non-null   object \n",
      " 12  Smoking Status               6000 non-null   object \n",
      " 13  Alcohol Consumption          3598 non-null   object \n",
      " 14  Diet                         6000 non-null   object \n",
      " 15  Chronic Diseases             3402 non-null   object \n",
      " 16  Medication Use               3604 non-null   object \n",
      " 17  Family History               3098 non-null   object \n",
      " 18  Cognitive Function           6000 non-null   float64\n",
      " 19  Mental Health Status         6000 non-null   object \n",
      " 20  Sleep Patterns               6000 non-null   object \n",
      " 21  Stress Levels                6000 non-null   float64\n",
      " 22  Pollution Exposure           6000 non-null   float64\n",
      " 23  Sun Exposure                 6000 non-null   float64\n",
      " 24  Education Level              4746 non-null   object \n",
      " 25  Income Level                 6000 non-null   object \n",
      " 26  Age (years)                  3000 non-null   float64\n",
      "dtypes: float64(13), int64(1), object(13)\n",
      "memory usage: 1.3+ MB\n"
     ]
    }
   ],
   "execution_count": 5
  },
  {
   "metadata": {
    "ExecuteTime": {
     "end_time": "2025-04-03T08:15:34.129403Z",
     "start_time": "2025-04-03T08:15:34.116172Z"
    }
   },
   "cell_type": "code",
   "source": "df.isnull().sum()",
   "id": "8ef8783ebb510acb",
   "outputs": [
    {
     "data": {
      "text/plain": [
       "ID                                0\n",
       "Gender                            0\n",
       "Height (cm)                       0\n",
       "Weight (kg)                       0\n",
       "Blood Pressure (s/d)              0\n",
       "Cholesterol Level (mg/dL)         0\n",
       "BMI                               0\n",
       "Blood Glucose Level (mg/dL)       0\n",
       "Bone Density (g/cm²)              0\n",
       "Vision Sharpness                  0\n",
       "Hearing Ability (dB)              0\n",
       "Physical Activity Level           0\n",
       "Smoking Status                    0\n",
       "Alcohol Consumption            2402\n",
       "Diet                              0\n",
       "Chronic Diseases               2598\n",
       "Medication Use                 2396\n",
       "Family History                 2902\n",
       "Cognitive Function                0\n",
       "Mental Health Status              0\n",
       "Sleep Patterns                    0\n",
       "Stress Levels                     0\n",
       "Pollution Exposure                0\n",
       "Sun Exposure                      0\n",
       "Education Level                1254\n",
       "Income Level                      0\n",
       "Age (years)                    3000\n",
       "dtype: int64"
      ]
     },
     "execution_count": 6,
     "metadata": {},
     "output_type": "execute_result"
    }
   ],
   "execution_count": 6
  },
  {
   "metadata": {
    "ExecuteTime": {
     "end_time": "2025-04-03T08:15:37.076033Z",
     "start_time": "2025-04-03T08:15:36.498392Z"
    }
   },
   "cell_type": "code",
   "source": [
    "sns.heatmap(df.isna())\n",
    "plt.show()"
   ],
   "id": "de845410a720aec1",
   "outputs": [
    {
     "data": {
      "text/plain": [
       "<Figure size 640x480 with 2 Axes>"
      ],
      "image/png": "[encoded data removed]"
     },
     "metadata": {},
     "output_type": "display_data"
    }
   ],
   "execution_count": 7
  },
  {
   "metadata": {
    "ExecuteTime": {
     "end_time": "2025-04-03T08:15:44.132025Z",
     "start_time": "2025-04-03T08:15:44.124077Z"
    }
   },
   "cell_type": "code",
   "source": "df1=df.drop(['Family History','Gender'],axis=1)",
   "id": "c67f95327f58ef0b",
   "outputs": [],
   "execution_count": 8
  },
  {
   "metadata": {
    "ExecuteTime": {
     "end_time": "2025-04-03T08:15:45.884908Z",
     "start_time": "2025-04-03T08:15:45.878642Z"
    }
   },
   "cell_type": "code",
   "source": "df1.columns",
   "id": "5b1fdaca4966b483",
   "outputs": [
    {
     "data": {
      "text/plain": [
       "Index(['ID', 'Height (cm)', 'Weight (kg)', 'Blood Pressure (s/d)',\n",
       "       'Cholesterol Level (mg/dL)', 'BMI', 'Blood Glucose Level (mg/dL)',\n",
       "       'Bone Density (g/cm²)', 'Vision Sharpness', 'Hearing Ability (dB)',\n",
       "       'Physical Activity Level', 'Smoking Status', 'Alcohol Consumption',\n",
       "       'Diet', 'Chronic Diseases', 'Medication Use', 'Cognitive Function',\n",
       "       'Mental Health Status', 'Sleep Patterns', 'Stress Levels',\n",
       "       'Pollution Exposure', 'Sun Exposure', 'Education Level', 'Income Level',\n",
       "       'Age (years)'],\n",
       "      dtype='object')"
      ]
     },
     "execution_count": 9,
     "metadata": {},
     "output_type": "execute_result"
    }
   ],
   "execution_count": 9
  },
  {
   "metadata": {
    "ExecuteTime": {
     "end_time": "2025-04-03T08:17:00.665627Z",
     "start_time": "2025-04-03T08:17:00.647407Z"
    }
   },
   "cell_type": "code",
   "source": [
    "df1.loc[:, 'Medication Use'] = df1['Medication Use'].fillna(df1['Medication Use'].mode()[0])\n",
    "df1.loc[:, 'Chronic Diseases'] = df1['Chronic Diseases'].fillna(df1['Chronic Diseases'].mode()[0])\n",
    "\n",
    "df1.isnull().sum()"
   ],
   "id": "43819a93b4d334bf",
   "outputs": [
    {
     "data": {
      "text/plain": [
       "ID                                0\n",
       "Height (cm)                       0\n",
       "Weight (kg)                       0\n",
       "Blood Pressure (s/d)              0\n",
       "Cholesterol Level (mg/dL)         0\n",
       "BMI                               0\n",
       "Blood Glucose Level (mg/dL)       0\n",
       "Bone Density (g/cm²)              0\n",
       "Vision Sharpness                  0\n",
       "Hearing Ability (dB)              0\n",
       "Physical Activity Level           0\n",
       "Smoking Status                    0\n",
       "Alcohol Consumption            2402\n",
       "Diet                              0\n",
       "Chronic Diseases                  0\n",
       "Medication Use                    0\n",
       "Cognitive Function                0\n",
       "Mental Health Status              0\n",
       "Sleep Patterns                    0\n",
       "Stress Levels                     0\n",
       "Pollution Exposure                0\n",
       "Sun Exposure                      0\n",
       "Education Level                1254\n",
       "Income Level                      0\n",
       "Age (years)                    3000\n",
       "dtype: int64"
      ]
     },
     "execution_count": 10,
     "metadata": {},
     "output_type": "execute_result"
    }
   ],
   "execution_count": 10
  },
  {
   "metadata": {
    "ExecuteTime": {
     "end_time": "2025-04-03T08:17:16.409182Z",
     "start_time": "2025-04-03T08:17:16.362944Z"
    }
   },
   "cell_type": "code",
   "source": "df1['Physical Activity Level'].unique()",
   "id": "e0f7daf424f43ecb",
   "outputs": [
    {
     "data": {
      "text/plain": [
       "array(['Moderate', 'Low', 'High'], dtype=object)"
      ]
     },
     "execution_count": 11,
     "metadata": {},
     "output_type": "execute_result"
    }
   ],
   "execution_count": 11
  },
  {
   "metadata": {
    "ExecuteTime": {
     "end_time": "2025-04-03T08:17:18.912531Z",
     "start_time": "2025-04-03T08:17:18.890048Z"
    }
   },
   "cell_type": "code",
   "source": [
    "data = df1[df1['Physical Activity Level'] == 'Moderate']\n",
    "data.groupby('Alcohol Consumption')['Alcohol Consumption'].count()\n",
    "data2 = df1[df1['Physical Activity Level'] == 'High']\n",
    "data2.groupby('Alcohol Consumption')['Alcohol Consumption'].count()\n",
    "data3 = df1[df1['Physical Activity Level'] == 'Low']\n",
    "data3.groupby('Alcohol Consumption')['Alcohol Consumption'].count()"
   ],
   "id": "c0ecddade126bcfa",
   "outputs": [
    {
     "data": {
      "text/plain": [
       "Alcohol Consumption\n",
       "Frequent      440\n",
       "Occasional    678\n",
       "Name: Alcohol Consumption, dtype: int64"
      ]
     },
     "execution_count": 12,
     "metadata": {},
     "output_type": "execute_result"
    }
   ],
   "execution_count": 12
  },
  {
   "metadata": {
    "ExecuteTime": {
     "end_time": "2025-04-03T08:17:22.459477Z",
     "start_time": "2025-04-03T08:17:22.398021Z"
    }
   },
   "cell_type": "code",
   "source": [
    "df1['Alcohol Consumption'] = df1.apply(\n",
    "    lambda row: 'Occasional' if pd.isna(row['Alcohol Consumption']) and row['Physical Activity Level'] == 'Moderate'\n",
    "    else 'Frequent' if pd.isna(row['Alcohol Consumption']) and row['Physical Activity Level'] in ['Low', 'High']\n",
    "    else row['Alcohol Consumption'],\n",
    "    axis=1\n",
    ")\n"
   ],
   "id": "4340ad98960328b6",
   "outputs": [],
   "execution_count": 13
  },
  {
   "metadata": {
    "ExecuteTime": {
     "end_time": "2025-04-03T08:19:26.184289Z",
     "start_time": "2025-04-03T08:19:26.171950Z"
    }
   },
   "cell_type": "code",
   "source": "df1.isnull().sum()\n",
   "id": "a7d76223590b1204",
   "outputs": [
    {
     "data": {
      "text/plain": [
       "ID                                0\n",
       "Height (cm)                       0\n",
       "Weight (kg)                       0\n",
       "Blood Pressure (s/d)              0\n",
       "Cholesterol Level (mg/dL)         0\n",
       "BMI                               0\n",
       "Blood Glucose Level (mg/dL)       0\n",
       "Bone Density (g/cm²)              0\n",
       "Vision Sharpness                  0\n",
       "Hearing Ability (dB)              0\n",
       "Physical Activity Level           0\n",
       "Smoking Status                    0\n",
       "Alcohol Consumption               0\n",
       "Diet                              0\n",
       "Chronic Diseases                  0\n",
       "Medication Use                    0\n",
       "Cognitive Function                0\n",
       "Mental Health Status              0\n",
       "Sleep Patterns                    0\n",
       "Stress Levels                     0\n",
       "Pollution Exposure                0\n",
       "Sun Exposure                      0\n",
       "Education Level                1254\n",
       "Income Level                      0\n",
       "Age (years)                    3000\n",
       "dtype: int64"
      ]
     },
     "execution_count": 15,
     "metadata": {},
     "output_type": "execute_result"
    }
   ],
   "execution_count": 15
  },
  {
   "metadata": {
    "ExecuteTime": {
     "end_time": "2025-04-03T08:19:28.831844Z",
     "start_time": "2025-04-03T08:19:28.824310Z"
    }
   },
   "cell_type": "code",
   "source": "df2=df1.drop(['Alcohol Consumption','Smoking Status','Sun Exposure','Pollution Exposure','ID','Diet','Medication Use','Chronic Diseases','Income Level','Education Level','Mental Health Status','Sleep Patterns','Stress Levels','Physical Activity Level','BMI'],axis=1)",
   "id": "1f20e98cf8564f9c",
   "outputs": [],
   "execution_count": 16
  },
  {
   "metadata": {
    "ExecuteTime": {
     "end_time": "2025-04-03T08:19:30.446666Z",
     "start_time": "2025-04-03T08:19:30.439622Z"
    }
   },
   "cell_type": "code",
   "source": "df2.columns",
   "id": "89e690be7bfb3d89",
   "outputs": [
    {
     "data": {
      "text/plain": [
       "Index(['Height (cm)', 'Weight (kg)', 'Blood Pressure (s/d)',\n",
       "       'Cholesterol Level (mg/dL)', 'Blood Glucose Level (mg/dL)',\n",
       "       'Bone Density (g/cm²)', 'Vision Sharpness', 'Hearing Ability (dB)',\n",
       "       'Cognitive Function', 'Age (years)'],\n",
       "      dtype='object')"
      ]
     },
     "execution_count": 17,
     "metadata": {},
     "output_type": "execute_result"
    }
   ],
   "execution_count": 17
  },
  {
   "metadata": {
    "ExecuteTime": {
     "end_time": "2025-04-03T08:19:34.184328Z",
     "start_time": "2025-04-03T08:19:34.170331Z"
    }
   },
   "cell_type": "code",
   "source": "df2.head()",
   "id": "a84fda684f50accc",
   "outputs": [
    {
     "data": {
      "text/plain": [
       "   Height (cm)  Weight (kg) Blood Pressure (s/d)  Cholesterol Level (mg/dL)  \\\n",
       "0   171.148359    86.185197              151/109                 259.465814   \n",
       "1   172.946206    79.641937              134/112                 263.630292   \n",
       "2   155.945488    49.167058              160/101                 207.846206   \n",
       "3   169.078298    56.017921               133/94                 253.283779   \n",
       "4   163.758355    73.966304              170/106                 236.119899   \n",
       "\n",
       "   Blood Glucose Level (mg/dL)  Bone Density (g/cm²)  Vision Sharpness  \\\n",
       "0                   157.652848              0.132868          0.200000   \n",
       "1                   118.507805              0.629534          0.267312   \n",
       "2                   143.587550              0.473487          0.248667   \n",
       "3                   137.448581              1.184315          0.513818   \n",
       "4                   145.328695              0.434562          0.306864   \n",
       "\n",
       "   Hearing Ability (dB)  Cognitive Function  Age (years)  \n",
       "0             58.786198           44.059172         89.0  \n",
       "1             54.635270           45.312298         77.0  \n",
       "2             54.564632           56.246991         70.0  \n",
       "3             79.722963           55.196092         52.0  \n",
       "4             52.479469           53.023379         79.0  "
      ],
      "text/html": [
       "<div>\n",
       "<style scoped>\n",
       "    .dataframe tbody tr th:only-of-type {\n",
       "        vertical-align: middle;\n",
       "    }\n",
       "\n",
       "    .dataframe tbody tr th {\n",
       "        vertical-align: top;\n",
       "    }\n",
       "\n",
       "    .dataframe thead th {\n",
       "        text-align: right;\n",
       "    }\n",
       "</style>\n",
       "<table border=\"1\" class=\"dataframe\">\n",
       "  <thead>\n",
       "    <tr style=\"text-align: right;\">\n",
       "      <th></th>\n",
       "      <th>Height (cm)</th>\n",
       "      <th>Weight (kg)</th>\n",
       "      <th>Blood Pressure (s/d)</th>\n",
       "      <th>Cholesterol Level (mg/dL)</th>\n",
       "      <th>Blood Glucose Level (mg/dL)</th>\n",
       "      <th>Bone Density (g/cm²)</th>\n",
       "      <th>Vision Sharpness</th>\n",
       "      <th>Hearing Ability (dB)</th>\n",
       "      <th>Cognitive Function</th>\n",
       "      <th>Age (years)</th>\n",
       "    </tr>\n",
       "  </thead>\n",
       "  <tbody>\n",
       "    <tr>\n",
       "      <th>0</th>\n",
       "      <td>171.148359</td>\n",
       "      <td>86.185197</td>\n",
       "      <td>151/109</td>\n",
       "      <td>259.465814</td>\n",
       "      <td>157.652848</td>\n",
       "      <td>0.132868</td>\n",
       "      <td>0.200000</td>\n",
       "      <td>58.786198</td>\n",
       "      <td>44.059172</td>\n",
       "      <td>89.0</td>\n",
       "    </tr>\n",
       "    <tr>\n",
       "      <th>1</th>\n",
       "      <td>172.946206</td>\n",
       "      <td>79.641937</td>\n",
       "      <td>134/112</td>\n",
       "      <td>263.630292</td>\n",
       "      <td>118.507805</td>\n",
       "      <td>0.629534</td>\n",
       "      <td>0.267312</td>\n",
       "      <td>54.635270</td>\n",
       "      <td>45.312298</td>\n",
       "      <td>77.0</td>\n",
       "    </tr>\n",
       "    <tr>\n",
       "      <th>2</th>\n",
       "      <td>155.945488</td>\n",
       "      <td>49.167058</td>\n",
       "      <td>160/101</td>\n",
       "      <td>207.846206</td>\n",
       "      <td>143.587550</td>\n",
       "      <td>0.473487</td>\n",
       "      <td>0.248667</td>\n",
       "      <td>54.564632</td>\n",
       "      <td>56.246991</td>\n",
       "      <td>70.0</td>\n",
       "    </tr>\n",
       "    <tr>\n",
       "      <th>3</th>\n",
       "      <td>169.078298</td>\n",
       "      <td>56.017921</td>\n",
       "      <td>133/94</td>\n",
       "      <td>253.283779</td>\n",
       "      <td>137.448581</td>\n",
       "      <td>1.184315</td>\n",
       "      <td>0.513818</td>\n",
       "      <td>79.722963</td>\n",
       "      <td>55.196092</td>\n",
       "      <td>52.0</td>\n",
       "    </tr>\n",
       "    <tr>\n",
       "      <th>4</th>\n",
       "      <td>163.758355</td>\n",
       "      <td>73.966304</td>\n",
       "      <td>170/106</td>\n",
       "      <td>236.119899</td>\n",
       "      <td>145.328695</td>\n",
       "      <td>0.434562</td>\n",
       "      <td>0.306864</td>\n",
       "      <td>52.479469</td>\n",
       "      <td>53.023379</td>\n",
       "      <td>79.0</td>\n",
       "    </tr>\n",
       "  </tbody>\n",
       "</table>\n",
       "</div>"
      ]
     },
     "execution_count": 18,
     "metadata": {},
     "output_type": "execute_result"
    }
   ],
   "execution_count": 18
  },
  {
   "metadata": {
    "ExecuteTime": {
     "end_time": "2025-04-03T08:19:39.161854Z",
     "start_time": "2025-04-03T08:19:39.141755Z"
    }
   },
   "cell_type": "code",
   "source": [
    "df2[['Systolic_BP', 'Diastolic_BP']] = df2['Blood Pressure (s/d)'].str.split('/', expand=True).astype(float)\n",
    "df2.drop(columns=['Blood Pressure (s/d)'], inplace=True)\n"
   ],
   "id": "7fdc47939c27edab",
   "outputs": [],
   "execution_count": 19
  },
  {
   "metadata": {
    "ExecuteTime": {
     "end_time": "2025-04-03T08:19:41.676305Z",
     "start_time": "2025-04-03T08:19:41.667839Z"
    }
   },
   "cell_type": "code",
   "source": "print(df2.head(10))",
   "id": "5db3fdf2bc9dc02e",
   "outputs": [
    {
     "name": "stdout",
     "output_type": "stream",
     "text": [
      "   Height (cm)  Weight (kg)  Cholesterol Level (mg/dL)  \\\n",
      "0   171.148359    86.185197                 259.465814   \n",
      "1   172.946206    79.641937                 263.630292   \n",
      "2   155.945488    49.167058                 207.846206   \n",
      "3   169.078298    56.017921                 253.283779   \n",
      "4   163.758355    73.966304                 236.119899   \n",
      "5   174.891617    79.671483                 198.718529   \n",
      "6   178.586966    86.521864                 246.339736   \n",
      "7   168.002914    66.524209                 222.462440   \n",
      "8   164.546917    74.405356                 204.235608   \n",
      "9   164.839426    64.271711                 268.598653   \n",
      "\n",
      "   Blood Glucose Level (mg/dL)  Bone Density (g/cm²)  Vision Sharpness  \\\n",
      "0                   157.652848              0.132868          0.200000   \n",
      "1                   118.507805              0.629534          0.267312   \n",
      "2                   143.587550              0.473487          0.248667   \n",
      "3                   137.448581              1.184315          0.513818   \n",
      "4                   145.328695              0.434562          0.306864   \n",
      "5                   100.928108              1.435352          0.666739   \n",
      "6                   129.977078              0.577363          0.200000   \n",
      "7                   116.806072              1.618100          0.717328   \n",
      "8                   137.022297              1.047384          0.505928   \n",
      "9                   130.056457              0.321093          0.200000   \n",
      "\n",
      "   Hearing Ability (dB)  Cognitive Function  Age (years)  Systolic_BP  \\\n",
      "0             58.786198           44.059172         89.0        151.0   \n",
      "1             54.635270           45.312298         77.0        134.0   \n",
      "2             54.564632           56.246991         70.0        160.0   \n",
      "3             79.722963           55.196092         52.0        133.0   \n",
      "4             52.479469           53.023379         79.0        170.0   \n",
      "5             27.908177           71.339373         29.0        134.0   \n",
      "6             63.363360           48.053091         76.0        178.0   \n",
      "7             39.530483           83.226875         26.0        144.0   \n",
      "8             54.105122           64.702746         50.0        152.0   \n",
      "9             65.601092           57.824789         77.0        153.0   \n",
      "\n",
      "   Diastolic_BP  \n",
      "0         109.0  \n",
      "1         112.0  \n",
      "2         101.0  \n",
      "3          94.0  \n",
      "4         106.0  \n",
      "5          75.0  \n",
      "6         109.0  \n",
      "7          79.0  \n",
      "8         119.0  \n",
      "9         109.0  \n"
     ]
    }
   ],
   "execution_count": 20
  },
  {
   "metadata": {
    "ExecuteTime": {
     "end_time": "2025-04-03T08:19:44.363847Z",
     "start_time": "2025-04-03T08:19:44.358547Z"
    }
   },
   "cell_type": "code",
   "source": "df2['BMI']=df['BMI']",
   "id": "753762efb6f800ec",
   "outputs": [],
   "execution_count": 21
  },
  {
   "metadata": {
    "ExecuteTime": {
     "end_time": "2025-04-03T08:19:47.844831Z",
     "start_time": "2025-04-03T08:19:47.836831Z"
    }
   },
   "cell_type": "code",
   "source": "df2.drop(columns=['Height (cm)','Weight (kg)'], inplace=True)",
   "id": "fac17b69b30677ef",
   "outputs": [],
   "execution_count": 22
  },
  {
   "metadata": {
    "ExecuteTime": {
     "end_time": "2025-04-03T08:19:53.160718Z",
     "start_time": "2025-04-03T08:19:53.152479Z"
    }
   },
   "cell_type": "code",
   "source": "print(df2.head(10))",
   "id": "78f852171463c35a",
   "outputs": [
    {
     "name": "stdout",
     "output_type": "stream",
     "text": [
      "   Cholesterol Level (mg/dL)  Blood Glucose Level (mg/dL)  \\\n",
      "0                 259.465814                   157.652848   \n",
      "1                 263.630292                   118.507805   \n",
      "2                 207.846206                   143.587550   \n",
      "3                 253.283779                   137.448581   \n",
      "4                 236.119899                   145.328695   \n",
      "5                 198.718529                   100.928108   \n",
      "6                 246.339736                   129.977078   \n",
      "7                 222.462440                   116.806072   \n",
      "8                 204.235608                   137.022297   \n",
      "9                 268.598653                   130.056457   \n",
      "\n",
      "   Bone Density (g/cm²)  Vision Sharpness  Hearing Ability (dB)  \\\n",
      "0              0.132868          0.200000             58.786198   \n",
      "1              0.629534          0.267312             54.635270   \n",
      "2              0.473487          0.248667             54.564632   \n",
      "3              1.184315          0.513818             79.722963   \n",
      "4              0.434562          0.306864             52.479469   \n",
      "5              1.435352          0.666739             27.908177   \n",
      "6              0.577363          0.200000             63.363360   \n",
      "7              1.618100          0.717328             39.530483   \n",
      "8              1.047384          0.505928             54.105122   \n",
      "9              0.321093          0.200000             65.601092   \n",
      "\n",
      "   Cognitive Function  Age (years)  Systolic_BP  Diastolic_BP        BMI  \n",
      "0           44.059172         89.0        151.0         109.0  29.423017  \n",
      "1           45.312298         77.0        134.0         112.0  26.626847  \n",
      "2           56.246991         70.0        160.0         101.0  20.217553  \n",
      "3           55.196092         52.0        133.0          94.0  19.595270  \n",
      "4           53.023379         79.0        170.0         106.0  27.582078  \n",
      "5           71.339373         29.0        134.0          75.0  26.047432  \n",
      "6           48.053091         76.0        178.0         109.0  27.128536  \n",
      "7           83.226875         26.0        144.0          79.0  23.569268  \n",
      "8           64.702746         50.0        152.0         119.0  27.480504  \n",
      "9           57.824789         77.0        153.0         109.0  23.653623  \n"
     ]
    }
   ],
   "execution_count": 23
  },
  {
   "metadata": {
    "ExecuteTime": {
     "end_time": "2025-04-03T09:17:02.350712Z",
     "start_time": "2025-04-03T09:17:02.230041Z"
    }
   },
   "cell_type": "code",
   "source": [
    "columns = ['Cholesterol Level (mg/dL)', 'Blood Glucose Level (mg/dL)',\n",
    "           'Bone Density (g/cm²)', 'Vision Sharpness', 'Hearing Ability (dB)',\n",
    "           'Cognitive Function', 'Systolic_BP', 'Diastolic_BP', 'BMI']\n",
    "\n",
    "\n",
    "def remove_outliers_iqr(df, columns):\n",
    "    for col in columns:\n",
    "        Q1 = df[col].quantile(0.25)\n",
    "        Q3 = df[col].quantile(0.75)\n",
    "        IQR = Q3 - Q1\n",
    "        lower_bound = Q1 - 1.5 * IQR\n",
    "        upper_bound = Q3 + 1.5 * IQR\n",
    "\n",
    "\n",
    "        df = df[(df[col] >= lower_bound) & (df[col] <= upper_bound)]\n",
    "\n",
    "    return df\n",
    "\n",
    "\n",
    "\n"
   ],
   "id": "98d0dd24ca2c514",
   "outputs": [],
   "execution_count": 24
  },
  {
   "metadata": {
    "ExecuteTime": {
     "end_time": "2025-04-03T09:18:22.907638Z",
     "start_time": "2025-04-03T09:18:22.799343Z"
    }
   },
   "cell_type": "code",
   "source": [
    "df_1=df2.copy()\n",
    "\n",
    "df_cleaned1 = remove_outliers_iqr(df_1, columns)\n",
    "\n",
    "\n",
    "print(f\"Nombre de lignes avant : {len(df_1)}\")\n",
    "print(f\"Nombre de lignes après : {len(df_cleaned1)}\")"
   ],
   "id": "b58d623923e9cee9",
   "outputs": [
    {
     "name": "stdout",
     "output_type": "stream",
     "text": [
      "Nombre de lignes avant : 6000\n",
      "Nombre de lignes après : 5846\n"
     ]
    }
   ],
   "execution_count": 25
  },
  {
   "metadata": {
    "ExecuteTime": {
     "end_time": "2025-04-03T09:20:23.520122Z",
     "start_time": "2025-04-03T09:20:23.439615Z"
    }
   },
   "cell_type": "code",
   "source": [
    "from scipy import stats\n",
    "\n",
    "df_2=df2.copy()\n",
    "z_threshold = 3\n",
    "\n",
    "df_cleaned2 = df_2[(stats.zscore(df_2[columns]) < z_threshold).all(axis=1)]\n",
    "print(f\"Nombre de lignes avant : {len(df_2)}\")\n",
    "print(f\"Nombre de lignes après suppression des outliers : {len(df_cleaned2)}\")"
   ],
   "id": "4451a4519477b1b4",
   "outputs": [
    {
     "name": "stdout",
     "output_type": "stream",
     "text": [
      "Nombre de lignes avant : 6000\n",
      "Nombre de lignes après suppression des outliers : 5944\n"
     ]
    }
   ],
   "execution_count": 26
  },
  {
   "metadata": {
    "ExecuteTime": {
     "end_time": "2025-04-03T10:28:50.575057Z",
     "start_time": "2025-04-03T10:28:50.559094Z"
    }
   },
   "cell_type": "code",
   "source": [
    "#So we choose IQR\n",
    "df3=remove_outliers_iqr(df2, columns)\n"
   ],
   "id": "dfe93cb3d6d8635c",
   "outputs": [],
   "execution_count": 36
  },
  {
   "metadata": {
    "ExecuteTime": {
     "end_time": "2025-04-03T09:23:17.751570Z",
     "start_time": "2025-04-03T09:23:17.739367Z"
    }
   },
   "cell_type": "code",
   "source": "df3.shape",
   "id": "796323910b35103d",
   "outputs": [
    {
     "data": {
      "text/plain": [
       "(5846, 10)"
      ]
     },
     "execution_count": 30,
     "metadata": {},
     "output_type": "execute_result"
    }
   ],
   "execution_count": 30
  },
  {
   "metadata": {
    "ExecuteTime": {
     "end_time": "2025-04-03T13:27:03.488942Z",
     "start_time": "2025-04-03T13:27:01.851399Z"
    }
   },
   "cell_type": "code",
   "source": [
    "df_known = df3[df3['Age (years)'].notna()]\n",
    "df_unknown = df3[df3['Age (years)'].isna()]\n",
    "\n",
    "X_known=df_known.drop(columns=['Age (years)'])\n",
    "y_known=df_known['Age (years)']\n",
    "X_unknown=df_unknown.drop(columns=['Age (years)'])\n",
    "\n",
    "model = RandomForestRegressor(n_estimators=100, random_state=42)\n",
    "model.fit(X_known, y_known)\n",
    "\n",
    "predicted_ages = model.predict(X_unknown)\n",
    "predicted_ages_series = pd.Series(predicted_ages, index=df_unknown.index)\n",
    "df3.loc[df3['Age (years)'].isna(), 'Age (years)'] = predicted_ages_series\n"
   ],
   "id": "bf66de9b0e8516dc",
   "outputs": [],
   "execution_count": 41
  },
  {
   "metadata": {
    "ExecuteTime": {
     "end_time": "2025-04-03T13:27:08.196753Z",
     "start_time": "2025-04-03T13:27:06.382350Z"
    }
   },
   "cell_type": "code",
   "source": [
    "X = df3.drop(columns=['Age (years)'])\n",
    "y = df3['Age (years)']\n",
    "\n",
    "X_train, X_test, y_train, y_test = train_test_split(X, y, test_size=0.2, random_state=42)\n",
    "\n",
    "scaler = StandardScaler()\n",
    "X_train_scaled = scaler.fit_transform(X_train)\n",
    "X_test_scaled = scaler.transform(X_test)\n",
    "\n",
    "\n",
    "models = {\n",
    "    \"Linear Regression\": LinearRegression(),\n",
    "    \"Decision Tree\": DecisionTreeRegressor(max_depth=5),\n",
    "    \"Random Forest\": RandomForestRegressor(n_estimators=100, max_depth=10)\n",
    "}\n",
    "mse_results = {}\n",
    "\n",
    "for name, model in models.items():\n",
    "\n",
    "    X_train_used = X_train_scaled if name == \"Linear Regression\" else X_train\n",
    "    X_test_used = X_test_scaled if name == \"Linear Regression\" else X_test\n",
    "\n",
    "\n",
    "    model.fit(X_train_used, y_train)\n",
    "\n",
    "\n",
    "    y_pred = model.predict(X_test_used)\n",
    "\n",
    "\n",
    "    mse = mean_squared_error(y_test, y_pred)\n",
    "    mse_results[name] = mse\n",
    "    print(f\"{name}: MSE = {mse:.2f}\")"
   ],
   "id": "471599136fac5152",
   "outputs": [
    {
     "name": "stdout",
     "output_type": "stream",
     "text": [
      "Linear Regression: MSE = 19.13\n",
      "Decision Tree: MSE = 24.63\n",
      "Random Forest: MSE = 10.21\n"
     ]
    }
   ],
   "execution_count": 42
  },
  {
   "metadata": {
    "ExecuteTime": {
     "end_time": "2025-04-03T13:30:56.204419Z",
     "start_time": "2025-04-03T13:30:55.520936Z"
    }
   },
   "cell_type": "code",
   "source": [
    "plt.figure(figsize=(8, 5))\n",
    "plt.bar(mse_results.keys(), mse_results.values(), color=['blue', 'green', 'red'])\n",
    "plt.xlabel('Model')\n",
    "plt.ylabel('Mean Squared Error (MSE)')\n",
    "plt.title('Model Comparison')\n",
    "plt.show()"
   ],
   "id": "2db4149324b1ccdd",
   "outputs": [
    {
     "data": {
      "text/plain": [
       "<Figure size 800x500 with 1 Axes>"
      ],
      "image/png": "[encoded data removed]"
     },
     "metadata": {},
     "output_type": "display_data"
    }
   ],
   "execution_count": 43
  },
  {
   "metadata": {
    "ExecuteTime": {
     "end_time": "2025-04-03T13:51:31.765119Z",
     "start_time": "2025-04-03T13:51:30.946582Z"
    }
   },
   "cell_type": "code",
   "source": [
    "model = xgb.XGBRegressor(objective='reg:squarederror', n_estimators=100, max_depth=10)\n",
    "model.fit(X_train, y_train)\n",
    "score=model.score(X_test, y_test)\n",
    "print(\"accuracy:\",score)\n",
    "y_pred=model.predict(X_test)\n",
    "mse = mean_squared_error(y_test, y_pred)\n",
    "print(\"Mean Squared Error (MSE):\", mse)\n"
   ],
   "id": "6a38d8a61721d8d",
   "outputs": [
    {
     "name": "stdout",
     "output_type": "stream",
     "text": [
      "accuracy: 0.981885422150302\n",
      "Mean Squared Error (MSE): 7.351216990590515\n"
     ]
    }
   ],
   "execution_count": 54
  },
  {
   "metadata": {},
   "cell_type": "code",
   "outputs": [],
   "execution_count": null,
   "source": "",
   "id": "89fc9818dda12c5c"
  }
 ],
 "metadata": {
  "kernelspec": {
   "display_name": "Python 3",
   "language": "python",
   "name": "python3"
  },
  "language_info": {
   "codemirror_mode": {
    "name": "ipython",
    "version": 2
   },
   "file_extension": ".py",
   "mimetype": "text/x-python",
   "name": "python",
   "nbconvert_exporter": "python",
   "pygments_lexer": "ipython2",
   "version": "2.7.6"
  }
 },
 "nbformat": 4,
 "nbformat_minor": 5
}
